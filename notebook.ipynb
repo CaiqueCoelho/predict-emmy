{
 "cells": [
  {
   "cell_type": "code",
   "execution_count": 123,
   "metadata": {},
   "outputs": [],
   "source": [
    "from __future__ import division\n",
    "import pandas as pd\n",
    "import numpy as np\n",
    "from collections import Counter\n",
    "from sklearn.model_selection import cross_validate\n",
    "from sklearn.model_selection import cross_val_score\n",
    "from sklearn.model_selection import GridSearchCV\n",
    "from sklearn import metrics\n",
    "from sklearn.utils import class_weight\n",
    "from sklearn.naive_bayes import MultinomialNB\n",
    "from sklearn.ensemble import AdaBoostClassifier\n",
    "from sklearn import svm\n",
    "from sklearn import neighbors\n",
    "from sklearn import neural_network\n",
    "from sklearn.linear_model import LogisticRegression\n",
    "from sklearn.ensemble import ExtraTreesClassifier\n",
    "from sklearn.ensemble import BaggingClassifier\n",
    "from sklearn.ensemble import GradientBoostingClassifier\n",
    "from sklearn.ensemble import RandomForestClassifier\n",
    "from sklearn.preprocessing import MinMaxScaler\n",
    "from sklearn import tree\n",
    "from sklearn.feature_extraction import DictVectorizer"
   ]
  },
  {
   "cell_type": "code",
   "execution_count": 124,
   "metadata": {},
   "outputs": [],
   "source": [
    "def fit_and_predict(modelName, model, train_x, train_y):\n",
    "    k = 10\n",
    "    scores = cross_val_score(model, train_x, train_y, cv = k)\n",
    "    hit_hate = np.mean(scores)\n",
    "    \n",
    "    msg = \"Hit Rate from {0}: {1}\".format(modelName, hit_hate)\n",
    "    print(msg)\n",
    "    \n",
    "    return hit_hate\n",
    "\n",
    "def gettingDistributionOfDatas():\n",
    "    winners = int(list(Y_labels).count(1))\n",
    "    print('Quantity winners: ' +str(winners))\n",
    "    \n",
    "    losers = int(list(Y_labels).count(0))\n",
    "    print('Quantity losers: ' +str(losers))\n",
    "    \n",
    "    total = len(Y_labels)\n",
    "    print('Total Quantity: ' +str(total))\n",
    "    \n",
    "    distribution_winners = int(winners/total * 100)\n",
    "    distribution_losers = int(losers/total * 100)\n",
    "    print('\\nDistribution of winning data: ' +str(distribution_winners) + '%')\n",
    "    print('Distribution of losing data: ' +str(distribution_losers) + '% \\n')\n",
    "    \n",
    "    print('class_weight:')\n",
    "    class_weight_count = {1: distribution_winners, 0: distribution_losers}\n",
    "    print(class_weight_count)\n",
    "    \n",
    "    return class_weight_count"
   ]
  },
  {
   "cell_type": "code",
   "execution_count": 125,
   "metadata": {},
   "outputs": [],
   "source": [
    "#get dataset to train/test and to predict\n",
    "df = pd.read_csv('datasets/the_emmy_awards.csv')\n",
    "#df_to_predict = pd.read_csv('datasets/Dados_Actress.csv')"
   ]
  },
  {
   "cell_type": "code",
   "execution_count": 126,
   "metadata": {},
   "outputs": [
    {
     "data": {
      "text/html": [
       "<div>\n",
       "<style scoped>\n",
       "    .dataframe tbody tr th:only-of-type {\n",
       "        vertical-align: middle;\n",
       "    }\n",
       "\n",
       "    .dataframe tbody tr th {\n",
       "        vertical-align: top;\n",
       "    }\n",
       "\n",
       "    .dataframe thead th {\n",
       "        text-align: right;\n",
       "    }\n",
       "</style>\n",
       "<table border=\"1\" class=\"dataframe\">\n",
       "  <thead>\n",
       "    <tr style=\"text-align: right;\">\n",
       "      <th></th>\n",
       "      <th>year</th>\n",
       "      <th>category</th>\n",
       "      <th>nominee</th>\n",
       "      <th>staff</th>\n",
       "      <th>company</th>\n",
       "      <th>producer</th>\n",
       "      <th>win</th>\n",
       "      <th>Unnamed: 7</th>\n",
       "      <th>Unnamed: 8</th>\n",
       "      <th>Unnamed: 9</th>\n",
       "    </tr>\n",
       "  </thead>\n",
       "  <tbody>\n",
       "    <tr>\n",
       "      <th>0</th>\n",
       "      <td>2020</td>\n",
       "      <td>Outstanding Animated Program</td>\n",
       "      <td>Big Mouth</td>\n",
       "      <td>Nick Kroll, Executive Producer; Andrew Goldber...</td>\n",
       "      <td>Netflix</td>\n",
       "      <td>A Netflix Original Production</td>\n",
       "      <td>NaN</td>\n",
       "      <td>NaN</td>\n",
       "      <td>NaN</td>\n",
       "      <td>NaN</td>\n",
       "    </tr>\n",
       "    <tr>\n",
       "      <th>1</th>\n",
       "      <td>2020</td>\n",
       "      <td>Outstanding Animated Program</td>\n",
       "      <td>Bob’s Burgers</td>\n",
       "      <td>Loren Bouchard, Jim Dauterive, Loren Bouchard</td>\n",
       "      <td>FOX</td>\n",
       "      <td>Jim Dauterive, Loren Bouchard</td>\n",
       "      <td>NaN</td>\n",
       "      <td>NaN</td>\n",
       "      <td>NaN</td>\n",
       "      <td>NaN</td>\n",
       "    </tr>\n",
       "    <tr>\n",
       "      <th>2</th>\n",
       "      <td>2020</td>\n",
       "      <td>Outstanding Animated Program</td>\n",
       "      <td>BoJack Horseman</td>\n",
       "      <td>Raphael Bob-Waksberg, Executive Producer/Writt...</td>\n",
       "      <td>Netflix</td>\n",
       "      <td>Tornante Productions, LLC</td>\n",
       "      <td>NaN</td>\n",
       "      <td>NaN</td>\n",
       "      <td>NaN</td>\n",
       "      <td>NaN</td>\n",
       "    </tr>\n",
       "    <tr>\n",
       "      <th>3</th>\n",
       "      <td>2020</td>\n",
       "      <td>Outstanding Animated Program</td>\n",
       "      <td>Rick And Morty</td>\n",
       "      <td>Dan Harmon, Executive Producer; Justin Roiland...</td>\n",
       "      <td>Adult Swim</td>\n",
       "      <td>Williams Street Productions</td>\n",
       "      <td>NaN</td>\n",
       "      <td>NaN</td>\n",
       "      <td>NaN</td>\n",
       "      <td>NaN</td>\n",
       "    </tr>\n",
       "    <tr>\n",
       "      <th>4</th>\n",
       "      <td>2020</td>\n",
       "      <td>Outstanding Animated Program</td>\n",
       "      <td>The Simpsons</td>\n",
       "      <td>Hank Azaria, as Moe, Carl, Duffman, Kirk</td>\n",
       "      <td>FOX</td>\n",
       "      <td>Gracie Films in association with 20th Century ...</td>\n",
       "      <td>NaN</td>\n",
       "      <td>NaN</td>\n",
       "      <td>NaN</td>\n",
       "      <td>NaN</td>\n",
       "    </tr>\n",
       "  </tbody>\n",
       "</table>\n",
       "</div>"
      ],
      "text/plain": [
       "   year                      category          nominee  \\\n",
       "0  2020  Outstanding Animated Program        Big Mouth   \n",
       "1  2020  Outstanding Animated Program    Bob’s Burgers   \n",
       "2  2020  Outstanding Animated Program  BoJack Horseman   \n",
       "3  2020  Outstanding Animated Program   Rick And Morty   \n",
       "4  2020  Outstanding Animated Program     The Simpsons   \n",
       "\n",
       "                                               staff     company  \\\n",
       "0  Nick Kroll, Executive Producer; Andrew Goldber...     Netflix   \n",
       "1      Loren Bouchard, Jim Dauterive, Loren Bouchard         FOX   \n",
       "2  Raphael Bob-Waksberg, Executive Producer/Writt...     Netflix   \n",
       "3  Dan Harmon, Executive Producer; Justin Roiland...  Adult Swim   \n",
       "4           Hank Azaria, as Moe, Carl, Duffman, Kirk         FOX   \n",
       "\n",
       "                                            producer  win Unnamed: 7  \\\n",
       "0                      A Netflix Original Production  NaN        NaN   \n",
       "1                      Jim Dauterive, Loren Bouchard  NaN        NaN   \n",
       "2                          Tornante Productions, LLC  NaN        NaN   \n",
       "3                        Williams Street Productions  NaN        NaN   \n",
       "4  Gracie Films in association with 20th Century ...  NaN        NaN   \n",
       "\n",
       "  Unnamed: 8 Unnamed: 9  \n",
       "0        NaN        NaN  \n",
       "1        NaN        NaN  \n",
       "2        NaN        NaN  \n",
       "3        NaN        NaN  \n",
       "4        NaN        NaN  "
      ]
     },
     "execution_count": 126,
     "metadata": {},
     "output_type": "execute_result"
    }
   ],
   "source": [
    "df.head()"
   ]
  },
  {
   "cell_type": "code",
   "execution_count": 127,
   "metadata": {},
   "outputs": [
    {
     "data": {
      "text/html": [
       "<div>\n",
       "<style scoped>\n",
       "    .dataframe tbody tr th:only-of-type {\n",
       "        vertical-align: middle;\n",
       "    }\n",
       "\n",
       "    .dataframe tbody tr th {\n",
       "        vertical-align: top;\n",
       "    }\n",
       "\n",
       "    .dataframe thead th {\n",
       "        text-align: right;\n",
       "    }\n",
       "</style>\n",
       "<table border=\"1\" class=\"dataframe\">\n",
       "  <thead>\n",
       "    <tr style=\"text-align: right;\">\n",
       "      <th></th>\n",
       "      <th>year</th>\n",
       "      <th>category</th>\n",
       "      <th>nominee</th>\n",
       "      <th>staff</th>\n",
       "      <th>company</th>\n",
       "      <th>producer</th>\n",
       "      <th>win</th>\n",
       "      <th>Unnamed: 7</th>\n",
       "      <th>Unnamed: 8</th>\n",
       "      <th>Unnamed: 9</th>\n",
       "    </tr>\n",
       "  </thead>\n",
       "  <tbody>\n",
       "    <tr>\n",
       "      <th>5</th>\n",
       "      <td>2020</td>\n",
       "      <td>Outstanding Limited Series</td>\n",
       "      <td>Little Fires Everywhere</td>\n",
       "      <td>Celeste Ng</td>\n",
       "      <td>Hulu</td>\n",
       "      <td>Best Day Ever Productions, Simpson Street, Hel...</td>\n",
       "      <td>NaN</td>\n",
       "      <td>NaN</td>\n",
       "      <td>NaN</td>\n",
       "      <td>NaN</td>\n",
       "    </tr>\n",
       "    <tr>\n",
       "      <th>6</th>\n",
       "      <td>2020</td>\n",
       "      <td>Outstanding Limited Series</td>\n",
       "      <td>Mrs. America</td>\n",
       "      <td>Tanya Barfield, Boo Killebrew, Sharon Hoffman</td>\n",
       "      <td>FX Networks</td>\n",
       "      <td>Tanya Barfield, Boo Killebrew, Sharon Hoffman</td>\n",
       "      <td>NaN</td>\n",
       "      <td>NaN</td>\n",
       "      <td>NaN</td>\n",
       "      <td>NaN</td>\n",
       "    </tr>\n",
       "    <tr>\n",
       "      <th>7</th>\n",
       "      <td>2020</td>\n",
       "      <td>Outstanding Limited Series</td>\n",
       "      <td>Unbelievable</td>\n",
       "      <td>John Vohlers, T. Christian Miller, Ken Armstro...</td>\n",
       "      <td>Netflix</td>\n",
       "      <td>John Vohlers, T. Christian Miller, Ken Armstro...</td>\n",
       "      <td>NaN</td>\n",
       "      <td>NaN</td>\n",
       "      <td>NaN</td>\n",
       "      <td>NaN</td>\n",
       "    </tr>\n",
       "    <tr>\n",
       "      <th>8</th>\n",
       "      <td>2020</td>\n",
       "      <td>Outstanding Limited Series</td>\n",
       "      <td>Unorthodox</td>\n",
       "      <td>Maria Schrader</td>\n",
       "      <td>Netflix</td>\n",
       "      <td>Maria Schrader</td>\n",
       "      <td>NaN</td>\n",
       "      <td>NaN</td>\n",
       "      <td>NaN</td>\n",
       "      <td>NaN</td>\n",
       "    </tr>\n",
       "    <tr>\n",
       "      <th>9</th>\n",
       "      <td>2020</td>\n",
       "      <td>Outstanding Limited Series</td>\n",
       "      <td>Watchmen</td>\n",
       "      <td>White Rabbit, Paramount Television, DC Enterta...</td>\n",
       "      <td>HBO</td>\n",
       "      <td>White Rabbit, Paramount Television, DC Enterta...</td>\n",
       "      <td>NaN</td>\n",
       "      <td>NaN</td>\n",
       "      <td>NaN</td>\n",
       "      <td>NaN</td>\n",
       "    </tr>\n",
       "    <tr>\n",
       "      <th>507</th>\n",
       "      <td>2019</td>\n",
       "      <td>Outstanding Limited Series</td>\n",
       "      <td>Escape At Dannemora</td>\n",
       "      <td>Ben Stiller, Executive Producer; Michael Tolki...</td>\n",
       "      <td>Showtime</td>\n",
       "      <td>Red Hour, Busyhands, The White Mountain Compan...</td>\n",
       "      <td>False</td>\n",
       "      <td>NaN</td>\n",
       "      <td>NaN</td>\n",
       "      <td>NaN</td>\n",
       "    </tr>\n",
       "    <tr>\n",
       "      <th>508</th>\n",
       "      <td>2019</td>\n",
       "      <td>Outstanding Limited Series</td>\n",
       "      <td>Fosse/Verdon</td>\n",
       "      <td>Steven Levenson, Executive Producer; Thomas Ka...</td>\n",
       "      <td>FX Networks</td>\n",
       "      <td>Fox 21 Television Studios and FX Productions</td>\n",
       "      <td>False</td>\n",
       "      <td>NaN</td>\n",
       "      <td>NaN</td>\n",
       "      <td>NaN</td>\n",
       "    </tr>\n",
       "    <tr>\n",
       "      <th>509</th>\n",
       "      <td>2019</td>\n",
       "      <td>Outstanding Limited Series</td>\n",
       "      <td>When They See Us</td>\n",
       "      <td>Ava DuVernay, Executive Producer; Jeff Skoll, ...</td>\n",
       "      <td>Netflix</td>\n",
       "      <td>Participant Media, Tribeca Productions, Harpo ...</td>\n",
       "      <td>False</td>\n",
       "      <td>NaN</td>\n",
       "      <td>NaN</td>\n",
       "      <td>NaN</td>\n",
       "    </tr>\n",
       "    <tr>\n",
       "      <th>537</th>\n",
       "      <td>2019</td>\n",
       "      <td>Outstanding Limited Series</td>\n",
       "      <td>Sharp Objects</td>\n",
       "      <td>Marti Noxon, Executive Producer; Jason Blum, E...</td>\n",
       "      <td>HBO</td>\n",
       "      <td>HBO Entertainment in association with eOne and...</td>\n",
       "      <td>False</td>\n",
       "      <td>NaN</td>\n",
       "      <td>NaN</td>\n",
       "      <td>NaN</td>\n",
       "    </tr>\n",
       "    <tr>\n",
       "      <th>703</th>\n",
       "      <td>2019</td>\n",
       "      <td>Outstanding Limited Series</td>\n",
       "      <td>Chernobyl</td>\n",
       "      <td>Craig Mazin, Executive Producer; Carolyn Strau...</td>\n",
       "      <td>HBO</td>\n",
       "      <td>HBO Miniseries and SKY in association with Sis...</td>\n",
       "      <td>True</td>\n",
       "      <td>NaN</td>\n",
       "      <td>NaN</td>\n",
       "      <td>NaN</td>\n",
       "    </tr>\n",
       "    <tr>\n",
       "      <th>1136</th>\n",
       "      <td>2018</td>\n",
       "      <td>Outstanding Limited Series</td>\n",
       "      <td>The Alienist</td>\n",
       "      <td>Hossein Amini, Executive Producer; E. Max Frye...</td>\n",
       "      <td>TNT</td>\n",
       "      <td>A Paramount Television and Turner's Studio T c...</td>\n",
       "      <td>False</td>\n",
       "      <td>NaN</td>\n",
       "      <td>NaN</td>\n",
       "      <td>NaN</td>\n",
       "    </tr>\n",
       "    <tr>\n",
       "      <th>1137</th>\n",
       "      <td>2018</td>\n",
       "      <td>Outstanding Limited Series</td>\n",
       "      <td>The Assassination Of Gianni Versace: American ...</td>\n",
       "      <td>Ryan Murphy, Executive Producer; Nina Jacobson...</td>\n",
       "      <td>FX Networks</td>\n",
       "      <td>Fox 21 Television Studios and FX Productions</td>\n",
       "      <td>True</td>\n",
       "      <td>NaN</td>\n",
       "      <td>NaN</td>\n",
       "      <td>NaN</td>\n",
       "    </tr>\n",
       "    <tr>\n",
       "      <th>1138</th>\n",
       "      <td>2018</td>\n",
       "      <td>Outstanding Limited Series</td>\n",
       "      <td>Genius: Picasso</td>\n",
       "      <td>Ken Biller, Executive Producer; Brian Grazer, ...</td>\n",
       "      <td>National Geographic</td>\n",
       "      <td>Imagine Television and Fox 21 Television Studios</td>\n",
       "      <td>False</td>\n",
       "      <td>NaN</td>\n",
       "      <td>NaN</td>\n",
       "      <td>NaN</td>\n",
       "    </tr>\n",
       "    <tr>\n",
       "      <th>1139</th>\n",
       "      <td>2018</td>\n",
       "      <td>Outstanding Limited Series</td>\n",
       "      <td>Godless</td>\n",
       "      <td>Casey Silver, Executive Producer; Steven Soder...</td>\n",
       "      <td>Netflix</td>\n",
       "      <td>A Netflix Original Production</td>\n",
       "      <td>False</td>\n",
       "      <td>NaN</td>\n",
       "      <td>NaN</td>\n",
       "      <td>NaN</td>\n",
       "    </tr>\n",
       "    <tr>\n",
       "      <th>1140</th>\n",
       "      <td>2018</td>\n",
       "      <td>Outstanding Limited Series</td>\n",
       "      <td>Patrick Melrose</td>\n",
       "      <td>Rachael Horovitz, Executive Producer; Michael ...</td>\n",
       "      <td>Showtime</td>\n",
       "      <td>Sky, West Fourth Films/A Two Cities Television</td>\n",
       "      <td>False</td>\n",
       "      <td>NaN</td>\n",
       "      <td>NaN</td>\n",
       "      <td>NaN</td>\n",
       "    </tr>\n",
       "    <tr>\n",
       "      <th>1800</th>\n",
       "      <td>2017</td>\n",
       "      <td>Outstanding Limited Series</td>\n",
       "      <td>Big Little Lies</td>\n",
       "      <td>David E. Kelley, Executive Producer; Jean-Marc...</td>\n",
       "      <td>HBO</td>\n",
       "      <td>HBO Entertainment in association with David E....</td>\n",
       "      <td>True</td>\n",
       "      <td>NaN</td>\n",
       "      <td>NaN</td>\n",
       "      <td>NaN</td>\n",
       "    </tr>\n",
       "    <tr>\n",
       "      <th>1801</th>\n",
       "      <td>2017</td>\n",
       "      <td>Outstanding Limited Series</td>\n",
       "      <td>Fargo</td>\n",
       "      <td>Noah Hawley, Executive Producer; Warren Little...</td>\n",
       "      <td>FX Networks</td>\n",
       "      <td>MGM Television and FX Productions</td>\n",
       "      <td>False</td>\n",
       "      <td>NaN</td>\n",
       "      <td>NaN</td>\n",
       "      <td>NaN</td>\n",
       "    </tr>\n",
       "    <tr>\n",
       "      <th>1802</th>\n",
       "      <td>2017</td>\n",
       "      <td>Outstanding Limited Series</td>\n",
       "      <td>FEUD: Bette And Joan</td>\n",
       "      <td>Ryan Murphy, Executive Producer; Dede Gardner,...</td>\n",
       "      <td>FX Networks</td>\n",
       "      <td>Fox 21 Television Studios</td>\n",
       "      <td>False</td>\n",
       "      <td>NaN</td>\n",
       "      <td>NaN</td>\n",
       "      <td>NaN</td>\n",
       "    </tr>\n",
       "    <tr>\n",
       "      <th>1803</th>\n",
       "      <td>2017</td>\n",
       "      <td>Outstanding Limited Series</td>\n",
       "      <td>Genius</td>\n",
       "      <td>Ron Howard, Executive Producer; Brian Grazer, ...</td>\n",
       "      <td>National Geographic</td>\n",
       "      <td>Imagine Television and Fox 21 Television Studios</td>\n",
       "      <td>False</td>\n",
       "      <td>NaN</td>\n",
       "      <td>NaN</td>\n",
       "      <td>NaN</td>\n",
       "    </tr>\n",
       "    <tr>\n",
       "      <th>1804</th>\n",
       "      <td>2017</td>\n",
       "      <td>Outstanding Limited Series</td>\n",
       "      <td>The Night Of</td>\n",
       "      <td>Steven Zaillian, Executive Producer; Richard P...</td>\n",
       "      <td>HBO</td>\n",
       "      <td>HBO Entertainment in association with BBC, Bad...</td>\n",
       "      <td>False</td>\n",
       "      <td>NaN</td>\n",
       "      <td>NaN</td>\n",
       "      <td>NaN</td>\n",
       "    </tr>\n",
       "    <tr>\n",
       "      <th>2305</th>\n",
       "      <td>2016</td>\n",
       "      <td>Outstanding Limited Series</td>\n",
       "      <td>American Crime</td>\n",
       "      <td>John Ridley, Executive Producer; Michael J. Mc...</td>\n",
       "      <td>ABC</td>\n",
       "      <td>ABC Studios</td>\n",
       "      <td>False</td>\n",
       "      <td>NaN</td>\n",
       "      <td>NaN</td>\n",
       "      <td>NaN</td>\n",
       "    </tr>\n",
       "    <tr>\n",
       "      <th>2306</th>\n",
       "      <td>2016</td>\n",
       "      <td>Outstanding Limited Series</td>\n",
       "      <td>Fargo</td>\n",
       "      <td>Noah Hawley, Executive Producer; Warren Little...</td>\n",
       "      <td>FX Networks</td>\n",
       "      <td>MGM Television, FX Productions</td>\n",
       "      <td>False</td>\n",
       "      <td>NaN</td>\n",
       "      <td>NaN</td>\n",
       "      <td>NaN</td>\n",
       "    </tr>\n",
       "    <tr>\n",
       "      <th>2307</th>\n",
       "      <td>2016</td>\n",
       "      <td>Outstanding Limited Series</td>\n",
       "      <td>Roots</td>\n",
       "      <td>Barry Jossen, Executive Producer; Lawrence Kon...</td>\n",
       "      <td>HISTORY</td>\n",
       "      <td>An A+E Studios Production in association with ...</td>\n",
       "      <td>False</td>\n",
       "      <td>NaN</td>\n",
       "      <td>NaN</td>\n",
       "      <td>NaN</td>\n",
       "    </tr>\n",
       "    <tr>\n",
       "      <th>2308</th>\n",
       "      <td>2016</td>\n",
       "      <td>Outstanding Limited Series</td>\n",
       "      <td>The Night Manager</td>\n",
       "      <td>Stephen Garrett, Executive Producer; Simon Cor...</td>\n",
       "      <td>AMC</td>\n",
       "      <td>AMC Studios / Ink Factory in association with ...</td>\n",
       "      <td>False</td>\n",
       "      <td>NaN</td>\n",
       "      <td>NaN</td>\n",
       "      <td>NaN</td>\n",
       "    </tr>\n",
       "    <tr>\n",
       "      <th>2309</th>\n",
       "      <td>2016</td>\n",
       "      <td>Outstanding Limited Series</td>\n",
       "      <td>The People v. O.J. Simpson: American Crime Story</td>\n",
       "      <td>Ryan Murphy, Executive Producer; Nina Jacobson...</td>\n",
       "      <td>FX Networks</td>\n",
       "      <td>Fox 21 Television Studios, FX Productions</td>\n",
       "      <td>True</td>\n",
       "      <td>NaN</td>\n",
       "      <td>NaN</td>\n",
       "      <td>NaN</td>\n",
       "    </tr>\n",
       "    <tr>\n",
       "      <th>2972</th>\n",
       "      <td>2015</td>\n",
       "      <td>Outstanding Limited Series</td>\n",
       "      <td>The Honorable Woman</td>\n",
       "      <td>Greg Brenman, Executive Producer; Abi Bach, Pr...</td>\n",
       "      <td>SundanceTV</td>\n",
       "      <td>Drama Republic and Eight Rooks Productions for...</td>\n",
       "      <td>False</td>\n",
       "      <td>NaN</td>\n",
       "      <td>NaN</td>\n",
       "      <td>NaN</td>\n",
       "    </tr>\n",
       "    <tr>\n",
       "      <th>2973</th>\n",
       "      <td>2015</td>\n",
       "      <td>Outstanding Limited Series</td>\n",
       "      <td>American Horror Story: Freak Show</td>\n",
       "      <td>Ryan Murphy, Executive Producer; Brad Falchuk,...</td>\n",
       "      <td>FX Networks</td>\n",
       "      <td>20th Century Fox Television</td>\n",
       "      <td>False</td>\n",
       "      <td>NaN</td>\n",
       "      <td>NaN</td>\n",
       "      <td>NaN</td>\n",
       "    </tr>\n",
       "    <tr>\n",
       "      <th>2974</th>\n",
       "      <td>2015</td>\n",
       "      <td>Outstanding Limited Series</td>\n",
       "      <td>Olive Kitteridge</td>\n",
       "      <td>Gary Goetzman, Executive Producer; Tom Hanks, ...</td>\n",
       "      <td>HBO</td>\n",
       "      <td>HBO Miniseries in association with Playtone</td>\n",
       "      <td>True</td>\n",
       "      <td>NaN</td>\n",
       "      <td>NaN</td>\n",
       "      <td>NaN</td>\n",
       "    </tr>\n",
       "    <tr>\n",
       "      <th>2975</th>\n",
       "      <td>2015</td>\n",
       "      <td>Outstanding Limited Series</td>\n",
       "      <td>Wolf Hall</td>\n",
       "      <td>Colin Callender, Executive Producer; John York...</td>\n",
       "      <td>PBS</td>\n",
       "      <td>A Playground Entertainment and Company Picture...</td>\n",
       "      <td>False</td>\n",
       "      <td>NaN</td>\n",
       "      <td>NaN</td>\n",
       "      <td>NaN</td>\n",
       "    </tr>\n",
       "    <tr>\n",
       "      <th>2976</th>\n",
       "      <td>2015</td>\n",
       "      <td>Outstanding Limited Series</td>\n",
       "      <td>American Crime</td>\n",
       "      <td>John Ridley, Executive Producer; Michael J. Mc...</td>\n",
       "      <td>ABC</td>\n",
       "      <td>ABC Studios</td>\n",
       "      <td>False</td>\n",
       "      <td>NaN</td>\n",
       "      <td>NaN</td>\n",
       "      <td>NaN</td>\n",
       "    </tr>\n",
       "  </tbody>\n",
       "</table>\n",
       "</div>"
      ],
      "text/plain": [
       "      year                    category  \\\n",
       "5     2020  Outstanding Limited Series   \n",
       "6     2020  Outstanding Limited Series   \n",
       "7     2020  Outstanding Limited Series   \n",
       "8     2020  Outstanding Limited Series   \n",
       "9     2020  Outstanding Limited Series   \n",
       "507   2019  Outstanding Limited Series   \n",
       "508   2019  Outstanding Limited Series   \n",
       "509   2019  Outstanding Limited Series   \n",
       "537   2019  Outstanding Limited Series   \n",
       "703   2019  Outstanding Limited Series   \n",
       "1136  2018  Outstanding Limited Series   \n",
       "1137  2018  Outstanding Limited Series   \n",
       "1138  2018  Outstanding Limited Series   \n",
       "1139  2018  Outstanding Limited Series   \n",
       "1140  2018  Outstanding Limited Series   \n",
       "1800  2017  Outstanding Limited Series   \n",
       "1801  2017  Outstanding Limited Series   \n",
       "1802  2017  Outstanding Limited Series   \n",
       "1803  2017  Outstanding Limited Series   \n",
       "1804  2017  Outstanding Limited Series   \n",
       "2305  2016  Outstanding Limited Series   \n",
       "2306  2016  Outstanding Limited Series   \n",
       "2307  2016  Outstanding Limited Series   \n",
       "2308  2016  Outstanding Limited Series   \n",
       "2309  2016  Outstanding Limited Series   \n",
       "2972  2015  Outstanding Limited Series   \n",
       "2973  2015  Outstanding Limited Series   \n",
       "2974  2015  Outstanding Limited Series   \n",
       "2975  2015  Outstanding Limited Series   \n",
       "2976  2015  Outstanding Limited Series   \n",
       "\n",
       "                                                nominee  \\\n",
       "5                               Little Fires Everywhere   \n",
       "6                                          Mrs. America   \n",
       "7                                          Unbelievable   \n",
       "8                                            Unorthodox   \n",
       "9                                              Watchmen   \n",
       "507                                 Escape At Dannemora   \n",
       "508                                        Fosse/Verdon   \n",
       "509                                    When They See Us   \n",
       "537                                       Sharp Objects   \n",
       "703                                           Chernobyl   \n",
       "1136                                       The Alienist   \n",
       "1137  The Assassination Of Gianni Versace: American ...   \n",
       "1138                                    Genius: Picasso   \n",
       "1139                                            Godless   \n",
       "1140                                    Patrick Melrose   \n",
       "1800                                    Big Little Lies   \n",
       "1801                                              Fargo   \n",
       "1802                               FEUD: Bette And Joan   \n",
       "1803                                             Genius   \n",
       "1804                                       The Night Of   \n",
       "2305                                     American Crime   \n",
       "2306                                              Fargo   \n",
       "2307                                              Roots   \n",
       "2308                                  The Night Manager   \n",
       "2309   The People v. O.J. Simpson: American Crime Story   \n",
       "2972                                The Honorable Woman   \n",
       "2973                  American Horror Story: Freak Show   \n",
       "2974                                   Olive Kitteridge   \n",
       "2975                                          Wolf Hall   \n",
       "2976                                     American Crime   \n",
       "\n",
       "                                                  staff              company  \\\n",
       "5                                            Celeste Ng                 Hulu   \n",
       "6         Tanya Barfield, Boo Killebrew, Sharon Hoffman          FX Networks   \n",
       "7     John Vohlers, T. Christian Miller, Ken Armstro...              Netflix   \n",
       "8                                        Maria Schrader              Netflix   \n",
       "9     White Rabbit, Paramount Television, DC Enterta...                  HBO   \n",
       "507   Ben Stiller, Executive Producer; Michael Tolki...             Showtime   \n",
       "508   Steven Levenson, Executive Producer; Thomas Ka...          FX Networks   \n",
       "509   Ava DuVernay, Executive Producer; Jeff Skoll, ...              Netflix   \n",
       "537   Marti Noxon, Executive Producer; Jason Blum, E...                  HBO   \n",
       "703   Craig Mazin, Executive Producer; Carolyn Strau...                  HBO   \n",
       "1136  Hossein Amini, Executive Producer; E. Max Frye...                  TNT   \n",
       "1137  Ryan Murphy, Executive Producer; Nina Jacobson...          FX Networks   \n",
       "1138  Ken Biller, Executive Producer; Brian Grazer, ...  National Geographic   \n",
       "1139  Casey Silver, Executive Producer; Steven Soder...              Netflix   \n",
       "1140  Rachael Horovitz, Executive Producer; Michael ...             Showtime   \n",
       "1800  David E. Kelley, Executive Producer; Jean-Marc...                  HBO   \n",
       "1801  Noah Hawley, Executive Producer; Warren Little...          FX Networks   \n",
       "1802  Ryan Murphy, Executive Producer; Dede Gardner,...          FX Networks   \n",
       "1803  Ron Howard, Executive Producer; Brian Grazer, ...  National Geographic   \n",
       "1804  Steven Zaillian, Executive Producer; Richard P...                  HBO   \n",
       "2305  John Ridley, Executive Producer; Michael J. Mc...                  ABC   \n",
       "2306  Noah Hawley, Executive Producer; Warren Little...          FX Networks   \n",
       "2307  Barry Jossen, Executive Producer; Lawrence Kon...              HISTORY   \n",
       "2308  Stephen Garrett, Executive Producer; Simon Cor...                  AMC   \n",
       "2309  Ryan Murphy, Executive Producer; Nina Jacobson...          FX Networks   \n",
       "2972  Greg Brenman, Executive Producer; Abi Bach, Pr...           SundanceTV   \n",
       "2973  Ryan Murphy, Executive Producer; Brad Falchuk,...          FX Networks   \n",
       "2974  Gary Goetzman, Executive Producer; Tom Hanks, ...                  HBO   \n",
       "2975  Colin Callender, Executive Producer; John York...                  PBS   \n",
       "2976  John Ridley, Executive Producer; Michael J. Mc...                  ABC   \n",
       "\n",
       "                                               producer    win Unnamed: 7  \\\n",
       "5     Best Day Ever Productions, Simpson Street, Hel...    NaN        NaN   \n",
       "6         Tanya Barfield, Boo Killebrew, Sharon Hoffman    NaN        NaN   \n",
       "7     John Vohlers, T. Christian Miller, Ken Armstro...    NaN        NaN   \n",
       "8                                        Maria Schrader    NaN        NaN   \n",
       "9     White Rabbit, Paramount Television, DC Enterta...    NaN        NaN   \n",
       "507   Red Hour, Busyhands, The White Mountain Compan...  False        NaN   \n",
       "508        Fox 21 Television Studios and FX Productions  False        NaN   \n",
       "509   Participant Media, Tribeca Productions, Harpo ...  False        NaN   \n",
       "537   HBO Entertainment in association with eOne and...  False        NaN   \n",
       "703   HBO Miniseries and SKY in association with Sis...   True        NaN   \n",
       "1136  A Paramount Television and Turner's Studio T c...  False        NaN   \n",
       "1137       Fox 21 Television Studios and FX Productions   True        NaN   \n",
       "1138   Imagine Television and Fox 21 Television Studios  False        NaN   \n",
       "1139                      A Netflix Original Production  False        NaN   \n",
       "1140     Sky, West Fourth Films/A Two Cities Television  False        NaN   \n",
       "1800  HBO Entertainment in association with David E....   True        NaN   \n",
       "1801                  MGM Television and FX Productions  False        NaN   \n",
       "1802                          Fox 21 Television Studios  False        NaN   \n",
       "1803   Imagine Television and Fox 21 Television Studios  False        NaN   \n",
       "1804  HBO Entertainment in association with BBC, Bad...  False        NaN   \n",
       "2305                                        ABC Studios  False        NaN   \n",
       "2306                     MGM Television, FX Productions  False        NaN   \n",
       "2307  An A+E Studios Production in association with ...  False        NaN   \n",
       "2308  AMC Studios / Ink Factory in association with ...  False        NaN   \n",
       "2309          Fox 21 Television Studios, FX Productions   True        NaN   \n",
       "2972  Drama Republic and Eight Rooks Productions for...  False        NaN   \n",
       "2973                        20th Century Fox Television  False        NaN   \n",
       "2974        HBO Miniseries in association with Playtone   True        NaN   \n",
       "2975  A Playground Entertainment and Company Picture...  False        NaN   \n",
       "2976                                        ABC Studios  False        NaN   \n",
       "\n",
       "     Unnamed: 8 Unnamed: 9  \n",
       "5           NaN        NaN  \n",
       "6           NaN        NaN  \n",
       "7           NaN        NaN  \n",
       "8           NaN        NaN  \n",
       "9           NaN        NaN  \n",
       "507         NaN        NaN  \n",
       "508         NaN        NaN  \n",
       "509         NaN        NaN  \n",
       "537         NaN        NaN  \n",
       "703         NaN        NaN  \n",
       "1136        NaN        NaN  \n",
       "1137        NaN        NaN  \n",
       "1138        NaN        NaN  \n",
       "1139        NaN        NaN  \n",
       "1140        NaN        NaN  \n",
       "1800        NaN        NaN  \n",
       "1801        NaN        NaN  \n",
       "1802        NaN        NaN  \n",
       "1803        NaN        NaN  \n",
       "1804        NaN        NaN  \n",
       "2305        NaN        NaN  \n",
       "2306        NaN        NaN  \n",
       "2307        NaN        NaN  \n",
       "2308        NaN        NaN  \n",
       "2309        NaN        NaN  \n",
       "2972        NaN        NaN  \n",
       "2973        NaN        NaN  \n",
       "2974        NaN        NaN  \n",
       "2975        NaN        NaN  \n",
       "2976        NaN        NaN  "
      ]
     },
     "execution_count": 127,
     "metadata": {},
     "output_type": "execute_result"
    }
   ],
   "source": [
    "category = 'Outstanding Limited Series'\n",
    "df.loc[df['category'] == category]"
   ]
  },
  {
   "cell_type": "code",
   "execution_count": 128,
   "metadata": {},
   "outputs": [
    {
     "data": {
      "text/plain": [
       "Index(['year', 'category', 'nominee', 'staff', 'company', 'producer', 'win',\n",
       "       'Unnamed: 7', 'Unnamed: 8', 'Unnamed: 9'],\n",
       "      dtype='object')"
      ]
     },
     "execution_count": 128,
     "metadata": {},
     "output_type": "execute_result"
    }
   ],
   "source": [
    "df.columns"
   ]
  },
  {
   "cell_type": "code",
   "execution_count": 129,
   "metadata": {},
   "outputs": [],
   "source": [
    "del df['Unnamed: 7']\n",
    "del df['Unnamed: 8']\n",
    "del df['Unnamed: 9']"
   ]
  },
  {
   "cell_type": "code",
   "execution_count": 130,
   "metadata": {},
   "outputs": [],
   "source": [
    "def separateProducers(producer):\n",
    "    producer = str(producer).replace(\" and\", \",\")\n",
    "    producer = producer.replace(\" in association with\", \",\")    \n",
    "    return producer\n",
    "\n",
    "df['producer'] = df['producer'].apply(separateProducers)"
   ]
  },
  {
   "cell_type": "code",
   "execution_count": 134,
   "metadata": {},
   "outputs": [],
   "source": [
    "def getMaxProducers(producer):\n",
    "    totalProducers = len(str(producer).split(','))\n",
    "    return totalProducers\n",
    "    \n",
    "df['totalProducers'] = df['producer'].apply(getMaxProducers)"
   ]
  },
  {
   "cell_type": "code",
   "execution_count": 138,
   "metadata": {},
   "outputs": [],
   "source": [
    "df['totalStaffs'] = df['staff'].apply(getMaxProducers)"
   ]
  },
  {
   "cell_type": "code",
   "execution_count": 139,
   "metadata": {},
   "outputs": [
    {
     "data": {
      "text/plain": [
       "9"
      ]
     },
     "execution_count": 139,
     "metadata": {},
     "output_type": "execute_result"
    }
   ],
   "source": [
    "df['totalProducers'].max()"
   ]
  },
  {
   "cell_type": "code",
   "execution_count": 140,
   "metadata": {},
   "outputs": [
    {
     "data": {
      "text/plain": [
       "38"
      ]
     },
     "execution_count": 140,
     "metadata": {},
     "output_type": "execute_result"
    }
   ],
   "source": [
    "df['totalStaffs'].max()"
   ]
  },
  {
   "cell_type": "code",
   "execution_count": 93,
   "metadata": {},
   "outputs": [
    {
     "data": {
      "text/plain": [
       "1.512179278986684"
      ]
     },
     "execution_count": 93,
     "metadata": {},
     "output_type": "execute_result"
    }
   ],
   "source": [
    "df['totalProducers'].mean()"
   ]
  },
  {
   "cell_type": "code",
   "execution_count": 94,
   "metadata": {},
   "outputs": [],
   "source": [
    "producersList = [[],[],[],[],[],[],[],[],[]]\n",
    "\n",
    "for row in df.iterrows():\n",
    "    producers = row[1]['producer'].split(',')\n",
    "    for i in range(0, 9):\n",
    "        if(i+1 <= len(producers)):\n",
    "            producersList[i].append(producers[i])\n",
    "        else:\n",
    "            producersList[i].append(producers[0])\n",
    "            "
   ]
  },
  {
   "cell_type": "code",
   "execution_count": 95,
   "metadata": {},
   "outputs": [],
   "source": [
    "df['producer1'] = producersList[0]\n",
    "df['producer2'] = producersList[1]\n",
    "df['producer3'] = producersList[2]\n",
    "df['producer4'] = producersList[3]\n",
    "df['producer5'] = producersList[4]\n",
    "df['producer6'] = producersList[5]\n",
    "df['producer7'] = producersList[6]\n",
    "df['producer8'] = producersList[7]\n",
    "df['producer9'] = producersList[8]"
   ]
  },
  {
   "cell_type": "code",
   "execution_count": 96,
   "metadata": {},
   "outputs": [],
   "source": [
    "def getMaxNominees(name):\n",
    "\n",
    "    dictNominees = {}\n",
    "    maxNominees = []\n",
    "\n",
    "    for row in df.iterrows():\n",
    "        producers = set(str(row[1][name]).split(','))\n",
    "        for i in producers:\n",
    "            if i in dictNominees:\n",
    "                dictNominees[i] = dictNominees[i] + 1\n",
    "            else:\n",
    "                dictNominees[i] = 1\n",
    "\n",
    "    for row in df.iterrows():\n",
    "        producers = set(str(row[1][name]).split(','))\n",
    "        maxNominee = 0\n",
    "        for i in producers:\n",
    "            if(dictNominees[i] > maxNominee):\n",
    "                maxNominee = dictNominees[i]\n",
    "        maxNominees.append(maxNominee)\n",
    "\n",
    "    nameMaxNominees = 'maxNominees_' + name \n",
    "    df[nameMaxNominees] = maxNominees"
   ]
  },
  {
   "cell_type": "code",
   "execution_count": 97,
   "metadata": {},
   "outputs": [],
   "source": [
    "getMaxNominees('producer')"
   ]
  },
  {
   "cell_type": "code",
   "execution_count": 98,
   "metadata": {},
   "outputs": [],
   "source": [
    "getMaxNominees('nominee')"
   ]
  },
  {
   "cell_type": "code",
   "execution_count": 99,
   "metadata": {},
   "outputs": [],
   "source": [
    "getMaxNominees('company')"
   ]
  },
  {
   "cell_type": "code",
   "execution_count": 100,
   "metadata": {},
   "outputs": [],
   "source": [
    "category = 'Outstanding Comedy Series'\n",
    "\n",
    "df = df.loc[df['category'] == category]\n",
    "\n",
    "listDummies = ['nominee', 'company', 'producer1', 'producer2', 'producer3', \n",
    "      'producer4', 'producer5', 'producer6', 'producer7', 'producer8', 'producer9']\n",
    "\n",
    "listColumns = ['nominee', 'company', 'totalProducers', 'producer1', 'producer2', 'producer3', \n",
    "      'producer4', 'producer5', 'producer6', 'producer7', 'producer8', 'producer9', \n",
    "      'maxNominees_producer', 'maxNominees_nominee', 'maxNominees_company', 'year', 'win']\n",
    "\n",
    "listColumnsX = ['nominee', 'company', 'totalProducers', 'producer1', 'producer2', 'producer3', \n",
    "      'producer4', 'producer5', 'producer6', 'producer7', 'producer8', 'producer9', \n",
    "      'maxNominees_producer', 'maxNominees_nominee', 'maxNominees_company']\n",
    "\n",
    "X = df[listColumns]\n",
    "\n",
    "X_previous_years = X.loc[X['year'] < 2020]\n",
    "X_actual_year = X.loc[X['year'] == 2020]\n",
    "\n",
    "#getting the importants attributes from original dataset to our dataset to train and test \n",
    "X_train_test = X_previous_years[listColumnsX]\n",
    "Y_labels = X_previous_years['win']\n",
    "\n",
    "#getting the importants attributes from original dataset to our dataset to predict\n",
    "X_to_predict = X_actual_year[listColumnsX]\n",
    "Y_to_predict = X_actual_year[listColumnsX]\n",
    "\n",
    "# to improve our analysis, we will do a pre-processing to normalize the data\n",
    "attributes_to_normalize = ['totalProducers', 'maxNominees_producer', 'maxNominees_nominee', 'maxNominees_company']\n",
    "X_train_robust = X_train_test.copy()\n",
    "X_train_to_predict = X_to_predict\n",
    "\n",
    "minMax = MinMaxScaler().fit(X_train_test[attributes_to_normalize])\n",
    "\n",
    "X_train_robust[attributes_to_normalize] = minMax.transform(X_train_test[attributes_to_normalize])"
   ]
  },
  {
   "cell_type": "code",
   "execution_count": 101,
   "metadata": {},
   "outputs": [
    {
     "data": {
      "text/html": [
       "<div>\n",
       "<style scoped>\n",
       "    .dataframe tbody tr th:only-of-type {\n",
       "        vertical-align: middle;\n",
       "    }\n",
       "\n",
       "    .dataframe tbody tr th {\n",
       "        vertical-align: top;\n",
       "    }\n",
       "\n",
       "    .dataframe thead th {\n",
       "        text-align: right;\n",
       "    }\n",
       "</style>\n",
       "<table border=\"1\" class=\"dataframe\">\n",
       "  <thead>\n",
       "    <tr style=\"text-align: right;\">\n",
       "      <th></th>\n",
       "      <th>nominee</th>\n",
       "      <th>company</th>\n",
       "      <th>totalProducers</th>\n",
       "      <th>producer1</th>\n",
       "      <th>maxNominees_producer</th>\n",
       "      <th>maxNominees_nominee</th>\n",
       "      <th>maxNominees_company</th>\n",
       "    </tr>\n",
       "  </thead>\n",
       "  <tbody>\n",
       "    <tr>\n",
       "      <th>42</th>\n",
       "      <td>Curb Your Enthusiasm</td>\n",
       "      <td>HBO</td>\n",
       "      <td>1</td>\n",
       "      <td>HBO Entertainment</td>\n",
       "      <td>497</td>\n",
       "      <td>44</td>\n",
       "      <td>2577</td>\n",
       "    </tr>\n",
       "    <tr>\n",
       "      <th>43</th>\n",
       "      <td>Dead to Me</td>\n",
       "      <td>Netflix</td>\n",
       "      <td>1</td>\n",
       "      <td>CBS Television Studios</td>\n",
       "      <td>63</td>\n",
       "      <td>3</td>\n",
       "      <td>479</td>\n",
       "    </tr>\n",
       "    <tr>\n",
       "      <th>44</th>\n",
       "      <td>The Good Place</td>\n",
       "      <td>Netflix</td>\n",
       "      <td>3</td>\n",
       "      <td>Universal Television</td>\n",
       "      <td>131</td>\n",
       "      <td>9</td>\n",
       "      <td>479</td>\n",
       "    </tr>\n",
       "    <tr>\n",
       "      <th>45</th>\n",
       "      <td>Insecure</td>\n",
       "      <td>HBO</td>\n",
       "      <td>3</td>\n",
       "      <td>Issa Rae Productions</td>\n",
       "      <td>120</td>\n",
       "      <td>5</td>\n",
       "      <td>2577</td>\n",
       "    </tr>\n",
       "    <tr>\n",
       "      <th>46</th>\n",
       "      <td>The Kominsky Method</td>\n",
       "      <td>Netflix</td>\n",
       "      <td>2</td>\n",
       "      <td>Chuck Lorre Productions</td>\n",
       "      <td>433</td>\n",
       "      <td>5</td>\n",
       "      <td>479</td>\n",
       "    </tr>\n",
       "    <tr>\n",
       "      <th>47</th>\n",
       "      <td>The Marvelous Mrs. Maisel</td>\n",
       "      <td>Prime Video</td>\n",
       "      <td>3</td>\n",
       "      <td>Dorothy Parker Drank Here Productions</td>\n",
       "      <td>29</td>\n",
       "      <td>35</td>\n",
       "      <td>70</td>\n",
       "    </tr>\n",
       "    <tr>\n",
       "      <th>48</th>\n",
       "      <td>Schitt's Creek</td>\n",
       "      <td>CBC</td>\n",
       "      <td>1</td>\n",
       "      <td>Not a Real Company Productions</td>\n",
       "      <td>3</td>\n",
       "      <td>7</td>\n",
       "      <td>1</td>\n",
       "    </tr>\n",
       "    <tr>\n",
       "      <th>49</th>\n",
       "      <td>What We Do in the Shadows</td>\n",
       "      <td>FX Networks</td>\n",
       "      <td>2</td>\n",
       "      <td>Two Canoes Pictures</td>\n",
       "      <td>2</td>\n",
       "      <td>1</td>\n",
       "      <td>401</td>\n",
       "    </tr>\n",
       "  </tbody>\n",
       "</table>\n",
       "</div>"
      ],
      "text/plain": [
       "                      nominee      company  totalProducers  \\\n",
       "42       Curb Your Enthusiasm          HBO               1   \n",
       "43                 Dead to Me      Netflix               1   \n",
       "44             The Good Place      Netflix               3   \n",
       "45                   Insecure          HBO               3   \n",
       "46        The Kominsky Method      Netflix               2   \n",
       "47  The Marvelous Mrs. Maisel  Prime Video               3   \n",
       "48             Schitt's Creek          CBC               1   \n",
       "49  What We Do in the Shadows  FX Networks               2   \n",
       "\n",
       "                                producer1  maxNominees_producer  \\\n",
       "42                      HBO Entertainment                   497   \n",
       "43                 CBS Television Studios                    63   \n",
       "44                   Universal Television                   131   \n",
       "45                   Issa Rae Productions                   120   \n",
       "46                Chuck Lorre Productions                   433   \n",
       "47  Dorothy Parker Drank Here Productions                    29   \n",
       "48         Not a Real Company Productions                     3   \n",
       "49                    Two Canoes Pictures                     2   \n",
       "\n",
       "    maxNominees_nominee  maxNominees_company  \n",
       "42                   44                 2577  \n",
       "43                    3                  479  \n",
       "44                    9                  479  \n",
       "45                    5                 2577  \n",
       "46                    5                  479  \n",
       "47                   35                   70  \n",
       "48                    7                    1  \n",
       "49                    1                  401  "
      ]
     },
     "execution_count": 101,
     "metadata": {},
     "output_type": "execute_result"
    }
   ],
   "source": [
    "X_train_to_predict[[\"nominee\", \"company\", \"totalProducers\", \"producer1\", \"maxNominees_producer\", \"maxNominees_nominee\", \"maxNominees_company\"]]"
   ]
  },
  {
   "cell_type": "code",
   "execution_count": 102,
   "metadata": {},
   "outputs": [],
   "source": [
    "Y_labels = Y_labels.values\n",
    "Y_to_predict = Y_to_predict.values"
   ]
  },
  {
   "cell_type": "code",
   "execution_count": 103,
   "metadata": {},
   "outputs": [],
   "source": [
    "def convertYLabels(value):\n",
    "    if value == 'True':\n",
    "        return 1\n",
    "    else:\n",
    "        return 0"
   ]
  },
  {
   "cell_type": "code",
   "execution_count": 104,
   "metadata": {},
   "outputs": [],
   "source": [
    "for i in range(0, len(Y_labels)):\n",
    "    Y_labels[i] = convertYLabels(Y_labels[i])\n",
    "    \n",
    "for i in range(0, len(Y_to_predict)):\n",
    "    Y_to_predict[i] = convertYLabels(str(Y_to_predict[i]))"
   ]
  },
  {
   "cell_type": "code",
   "execution_count": 105,
   "metadata": {},
   "outputs": [
    {
     "name": "stdout",
     "output_type": "stream",
     "text": [
      "Quantity winners: 48\n",
      "Quantity losers: 208\n",
      "Total Quantity: 256\n",
      "\n",
      "Distribution of winning data: 18%\n",
      "Distribution of losing data: 81% \n",
      "\n",
      "class_weight:\n",
      "{1: 18, 0: 81}\n"
     ]
    },
    {
     "data": {
      "text/plain": [
       "{1: 18, 0: 81}"
      ]
     },
     "execution_count": 105,
     "metadata": {},
     "output_type": "execute_result"
    }
   ],
   "source": [
    "gettingDistributionOfDatas()"
   ]
  },
  {
   "cell_type": "code",
   "execution_count": 108,
   "metadata": {},
   "outputs": [],
   "source": [
    "# categorical values treatment\n",
    "X_train_dict = X_train_robust.to_dict(orient='records')  # turn each row as key-value\n",
    "X_to_predict_dict = X_train_to_predict.to_dict(orient='records')\n",
    "\n",
    "# DictVectorizer\n",
    "dv_X = DictVectorizer(sparse=False).fit(X_train_dict)\n",
    "# sparse = False makes the output is not a sparse matrix apply dv_X on X_dict\n",
    "X_train = dv_X.transform(X_train_dict)\n",
    "X_to_predict = dv_X.transform(X_to_predict_dict)"
   ]
  },
  {
   "cell_type": "code",
   "execution_count": 109,
   "metadata": {},
   "outputs": [],
   "source": [
    "X_train_test = X_train\n",
    "X_to_predict = X_to_predict\n",
    "Y_labels = Y_labels"
   ]
  },
  {
   "cell_type": "code",
   "execution_count": 110,
   "metadata": {},
   "outputs": [],
   "source": [
    "#Percentage train\n",
    "percentage_train = 0.8\n",
    "size_train = percentage_train * len(Y_labels)\n",
    "train_data_X = X_train_test[:int(size_train)]\n",
    "train_data_Y = Y_labels[:int(size_train)]"
   ]
  },
  {
   "cell_type": "code",
   "execution_count": 111,
   "metadata": {},
   "outputs": [],
   "source": [
    "#Percentage test\n",
    "test_data_X = X_train_test[int(size_train):]\n",
    "test_data_Y = Y_labels[int(size_train):]"
   ]
  },
  {
   "cell_type": "code",
   "execution_count": 112,
   "metadata": {},
   "outputs": [],
   "source": [
    "#Counting quantity of predictions as won\n",
    "qt_candidates = len(X_to_predict)\n",
    "candidate = [0] * qt_candidates\n",
    "candidate0 = [0] * qt_candidates\n",
    "results = {}"
   ]
  },
  {
   "cell_type": "code",
   "execution_count": 117,
   "metadata": {},
   "outputs": [],
   "source": [
    "def predict_results(model, result):\n",
    "    results[result] = model\n",
    "    model.fit(train_data_X, train_data_Y)\n",
    "    resultEmmy = model.predict(X_to_predict)\n",
    "    print('Emmy 2020: ' + str(resultEmmy))\n",
    "    print('')\n",
    "    for i in range(qt_candidates):\n",
    "            if(resultEmmy[i] == 1.0):\n",
    "                candidate0[i] = candidate0[i] + 1\n",
    "    if(result > 0.79):\n",
    "        for i in range(qt_candidates):\n",
    "            if(resultEmmy[i] == 1.0):\n",
    "                candidate[i] = candidate[i] + 1"
   ]
  },
  {
   "cell_type": "code",
   "execution_count": 114,
   "metadata": {},
   "outputs": [],
   "source": [
    "train_data_Y = train_data_Y.astype(int)\n",
    "test_data_Y = test_data_Y.astype(int)"
   ]
  },
  {
   "cell_type": "code",
   "execution_count": 115,
   "metadata": {},
   "outputs": [
    {
     "name": "stdout",
     "output_type": "stream",
     "text": [
      "Hit Rate from AdaBoostClassifier Grided: 0.8192982456140351\n",
      "Oscar 2019: [0 0 0 0 0 0 0 0]\n",
      "\n"
     ]
    }
   ],
   "source": [
    "#Predict Adaboost Grided\n",
    "model = AdaBoostClassifier(n_estimators= 45, learning_rate= 0.01)\n",
    "result = fit_and_predict(\"AdaBoostClassifier Grided\", model, train_data_X, train_data_Y)\n",
    "predict_results(model, result)"
   ]
  },
  {
   "cell_type": "code",
   "execution_count": 116,
   "metadata": {},
   "outputs": [
    {
     "name": "stdout",
     "output_type": "stream",
     "text": [
      "Hit Rate from AdaBoostClassifier: 0.7491228070175439\n",
      "Oscar 2019: [0 0 0 0 0 1 0 0]\n",
      "\n"
     ]
    }
   ],
   "source": [
    "#Predict Adaboost\n",
    "model = AdaBoostClassifier()\n",
    "result = fit_and_predict(\"AdaBoostClassifier\", model, train_data_X, train_data_Y)\n",
    "predict_results(model, result)"
   ]
  },
  {
   "cell_type": "code",
   "execution_count": 22,
   "metadata": {},
   "outputs": [
    {
     "name": "stdout",
     "output_type": "stream",
     "text": [
      "Hit Rate from SVC Grided: 0.7921428571428571\n",
      "Oscar 2019: [0. 0. 0. 0. 0.]\n",
      "\n"
     ]
    }
   ],
   "source": [
    "# Predict SVC Grided\n",
    "model = svm.SVC(C= 0.03, max_iter= -1, decision_function_shape= 'ovo', tol= 0.001, class_weight= None, gamma='scale')\n",
    "result = fit_and_predict(\"SVC Grided\", model, train_data_X, train_data_Y)\n",
    "predict_results(model, result)"
   ]
  },
  {
   "cell_type": "code",
   "execution_count": 23,
   "metadata": {},
   "outputs": [
    {
     "name": "stdout",
     "output_type": "stream",
     "text": [
      "Hit Rate from SVC Grided with class_weight balanced: 0.37214285714285716\n",
      "Oscar 2019: [1. 1. 1. 1. 1.]\n",
      "\n"
     ]
    }
   ],
   "source": [
    "# Predict SVC Grided with class_weight balanced\n",
    "model = svm.SVC(C= 0.03, max_iter= -1, decision_function_shape= 'ovo', tol= 0.001, class_weight= 'balanced', gamma='auto')\n",
    "result = fit_and_predict(\"SVC Grided with class_weight balanced\", model, train_data_X, train_data_Y)\n",
    "predict_results(model, result)"
   ]
  },
  {
   "cell_type": "code",
   "execution_count": 24,
   "metadata": {},
   "outputs": [
    {
     "name": "stdout",
     "output_type": "stream",
     "text": [
      "Hit Rate from SVC Grided with class_weight count: 0.7921428571428571\n",
      "Oscar 2019: [0. 0. 0. 0. 0.]\n",
      "\n"
     ]
    }
   ],
   "source": [
    "# Predict SVC Grided with class_weight count\n",
    "model = svm.SVC(C= 0.03, max_iter= -1, decision_function_shape= 'ovo', tol= 0.001, class_weight= class_weight_dict, gamma='auto')\n",
    "result = fit_and_predict(\"SVC Grided with class_weight count\", model, train_data_X, train_data_Y)\n",
    "predict_results(model, result)"
   ]
  },
  {
   "cell_type": "code",
   "execution_count": 25,
   "metadata": {},
   "outputs": [
    {
     "name": "stdout",
     "output_type": "stream",
     "text": [
      "Hit Rate from SVC Grided: 0.8197619047619048\n",
      "Oscar 2019: [0. 0. 0. 0. 0.]\n",
      "\n"
     ]
    }
   ],
   "source": [
    "# Predict SVC\n",
    "model = svm.SVC(gamma='auto')\n",
    "result = fit_and_predict(\"SVC Grided\", model, train_data_X, train_data_Y)\n",
    "predict_results(model, result)"
   ]
  },
  {
   "cell_type": "code",
   "execution_count": 26,
   "metadata": {},
   "outputs": [
    {
     "name": "stdout",
     "output_type": "stream",
     "text": [
      "Hit Rate from KNN Grided: 0.8260119047619048\n",
      "Oscar 2019: [0. 0. 0. 0. 0.]\n",
      "\n"
     ]
    }
   ],
   "source": [
    "#Predict KNN Grided\n",
    "model = neighbors.KNeighborsClassifier(n_neighbors = 4, metric = 'euclidean', weights = 'uniform', algorithm = 'auto')\n",
    "result = fit_and_predict(\"KNN Grided\", model, train_data_X, train_data_Y)\n",
    "predict_results(model, result)"
   ]
  },
  {
   "cell_type": "code",
   "execution_count": 27,
   "metadata": {},
   "outputs": [
    {
     "name": "stdout",
     "output_type": "stream",
     "text": [
      "Hit Rate from KNN: 0.8322619047619046\n",
      "Oscar 2019: [0. 0. 0. 0. 0.]\n",
      "\n"
     ]
    }
   ],
   "source": [
    "#Predict KNN\n",
    "model = neighbors.KNeighborsClassifier()\n",
    "result = fit_and_predict(\"KNN\", model, train_data_X, train_data_Y)\n",
    "predict_results(model, result)"
   ]
  },
  {
   "cell_type": "code",
   "execution_count": 28,
   "metadata": {},
   "outputs": [
    {
     "name": "stderr",
     "output_type": "stream",
     "text": [
      "/usr/local/lib/python3.6/dist-packages/sklearn/neural_network/multilayer_perceptron.py:562: ConvergenceWarning: Stochastic Optimizer: Maximum iterations (200) reached and the optimization hasn't converged yet.\n",
      "  % self.max_iter, ConvergenceWarning)\n",
      "/usr/local/lib/python3.6/dist-packages/sklearn/neural_network/multilayer_perceptron.py:562: ConvergenceWarning: Stochastic Optimizer: Maximum iterations (200) reached and the optimization hasn't converged yet.\n",
      "  % self.max_iter, ConvergenceWarning)\n",
      "/usr/local/lib/python3.6/dist-packages/sklearn/neural_network/multilayer_perceptron.py:562: ConvergenceWarning: Stochastic Optimizer: Maximum iterations (200) reached and the optimization hasn't converged yet.\n",
      "  % self.max_iter, ConvergenceWarning)\n",
      "/usr/local/lib/python3.6/dist-packages/sklearn/neural_network/multilayer_perceptron.py:562: ConvergenceWarning: Stochastic Optimizer: Maximum iterations (200) reached and the optimization hasn't converged yet.\n",
      "  % self.max_iter, ConvergenceWarning)\n",
      "/usr/local/lib/python3.6/dist-packages/sklearn/neural_network/multilayer_perceptron.py:562: ConvergenceWarning: Stochastic Optimizer: Maximum iterations (200) reached and the optimization hasn't converged yet.\n",
      "  % self.max_iter, ConvergenceWarning)\n",
      "/usr/local/lib/python3.6/dist-packages/sklearn/neural_network/multilayer_perceptron.py:562: ConvergenceWarning: Stochastic Optimizer: Maximum iterations (200) reached and the optimization hasn't converged yet.\n",
      "  % self.max_iter, ConvergenceWarning)\n",
      "/usr/local/lib/python3.6/dist-packages/sklearn/neural_network/multilayer_perceptron.py:562: ConvergenceWarning: Stochastic Optimizer: Maximum iterations (200) reached and the optimization hasn't converged yet.\n",
      "  % self.max_iter, ConvergenceWarning)\n",
      "/usr/local/lib/python3.6/dist-packages/sklearn/neural_network/multilayer_perceptron.py:562: ConvergenceWarning: Stochastic Optimizer: Maximum iterations (200) reached and the optimization hasn't converged yet.\n",
      "  % self.max_iter, ConvergenceWarning)\n",
      "/usr/local/lib/python3.6/dist-packages/sklearn/neural_network/multilayer_perceptron.py:562: ConvergenceWarning: Stochastic Optimizer: Maximum iterations (200) reached and the optimization hasn't converged yet.\n",
      "  % self.max_iter, ConvergenceWarning)\n",
      "/usr/local/lib/python3.6/dist-packages/sklearn/neural_network/multilayer_perceptron.py:562: ConvergenceWarning: Stochastic Optimizer: Maximum iterations (200) reached and the optimization hasn't converged yet.\n",
      "  % self.max_iter, ConvergenceWarning)\n"
     ]
    },
    {
     "name": "stdout",
     "output_type": "stream",
     "text": [
      "Hit Rate from MLP: 0.8192261904761905\n",
      "Oscar 2019: [0. 0. 0. 0. 0.]\n",
      "\n"
     ]
    },
    {
     "name": "stderr",
     "output_type": "stream",
     "text": [
      "/usr/local/lib/python3.6/dist-packages/sklearn/neural_network/multilayer_perceptron.py:562: ConvergenceWarning: Stochastic Optimizer: Maximum iterations (200) reached and the optimization hasn't converged yet.\n",
      "  % self.max_iter, ConvergenceWarning)\n"
     ]
    }
   ],
   "source": [
    "#Predict MLP\n",
    "model = neural_network.MLPClassifier()\n",
    "result = fit_and_predict(\"MLP\", model, train_data_X, train_data_Y)\n",
    "predict_results(model, result)"
   ]
  },
  {
   "cell_type": "code",
   "execution_count": 29,
   "metadata": {},
   "outputs": [
    {
     "name": "stdout",
     "output_type": "stream",
     "text": [
      "Hit Rate from LogisticRegression Grided and class_weigh balanced: 0.7426190476190476\n",
      "Oscar 2019: [1. 0. 1. 1. 0.]\n",
      "\n"
     ]
    }
   ],
   "source": [
    "#Predict Logistic Regression and class_weigh balanced\n",
    "model = LogisticRegression(C= 0.01, fit_intercept= True, tol= 1e-05, max_iter= 100, class_weight= 'balanced', solver='lbfgs')\n",
    "result = fit_and_predict(\"LogisticRegression Grided and class_weigh balanced\", model, train_data_X, train_data_Y)\n",
    "predict_results(model, result)"
   ]
  },
  {
   "cell_type": "code",
   "execution_count": 30,
   "metadata": {},
   "outputs": [
    {
     "name": "stdout",
     "output_type": "stream",
     "text": [
      "Hit Rate from LogisticRegression Grided and class_weigh balanced: 0.7921428571428571\n",
      "Oscar 2019: [0. 0. 0. 0. 0.]\n",
      "\n"
     ]
    }
   ],
   "source": [
    "#Predict Logistic Regression and class_weigh count\n",
    "model = LogisticRegression(C= 0.01, fit_intercept= True, tol= 1e-05, max_iter= 100, class_weight= class_weight_dict, solver='lbfgs')\n",
    "result = fit_and_predict(\"LogisticRegression Grided and class_weigh balanced\", model, train_data_X, train_data_Y)\n",
    "predict_results(model, result)"
   ]
  },
  {
   "cell_type": "code",
   "execution_count": 31,
   "metadata": {},
   "outputs": [
    {
     "name": "stdout",
     "output_type": "stream",
     "text": [
      "Hit Rate from LogisticRegression: 0.825952380952381\n",
      "Oscar 2019: [0. 1. 0. 0. 0.]\n",
      "\n"
     ]
    }
   ],
   "source": [
    "#Predict Logistic Regression\n",
    "model = LogisticRegression(solver='lbfgs')\n",
    "result = fit_and_predict(\"LogisticRegression\", model, train_data_X, train_data_Y)\n",
    "predict_results(model, result)"
   ]
  },
  {
   "cell_type": "code",
   "execution_count": 32,
   "metadata": {},
   "outputs": [
    {
     "name": "stdout",
     "output_type": "stream",
     "text": [
      "Hit Rate from BaggingClassifier Grided: 0.8130952380952381\n",
      "Oscar 2019: [0. 0. 0. 0. 0.]\n",
      "\n"
     ]
    }
   ],
   "source": [
    "#Predict Bagging Grided\n",
    "model = BaggingClassifier(n_estimators= 42, max_samples= 0.087)\n",
    "result = fit_and_predict(\"BaggingClassifier Grided\", model, train_data_X, train_data_Y)\n",
    "predict_results(model, result)"
   ]
  },
  {
   "cell_type": "code",
   "execution_count": 33,
   "metadata": {},
   "outputs": [
    {
     "name": "stdout",
     "output_type": "stream",
     "text": [
      "Hit Rate from BaggingClassifier: 0.826845238095238\n",
      "Oscar 2019: [0. 0. 1. 0. 0.]\n",
      "\n"
     ]
    }
   ],
   "source": [
    "#Predict Bagging\n",
    "model = BaggingClassifier()\n",
    "result = fit_and_predict(\"BaggingClassifier\", model, train_data_X, train_data_Y)\n",
    "predict_results(model, result)"
   ]
  },
  {
   "cell_type": "code",
   "execution_count": 34,
   "metadata": {},
   "outputs": [
    {
     "name": "stdout",
     "output_type": "stream",
     "text": [
      "Hit Rate from GradientBoostingClassifier: 0.7997023809523809\n",
      "Oscar 2019: [0. 1. 1. 0. 0.]\n",
      "\n"
     ]
    }
   ],
   "source": [
    "#Predict Gradient Boosting\n",
    "model = GradientBoostingClassifier()\n",
    "result = fit_and_predict(\"GradientBoostingClassifier\", model, train_data_X, train_data_Y)\n",
    "predict_results(model, result)"
   ]
  },
  {
   "cell_type": "code",
   "execution_count": 35,
   "metadata": {},
   "outputs": [
    {
     "name": "stdout",
     "output_type": "stream",
     "text": [
      "Hit Rate from RandomForestClassifier Grided: 0.8202380952380952\n",
      "Oscar 2019: [0. 0. 0. 0. 0.]\n",
      "\n"
     ]
    }
   ],
   "source": [
    "#Predict Random Forest Grided\n",
    "model = RandomForestClassifier(n_estimators= 10, criterion= 'gini', max_depth= 3)\n",
    "result = fit_and_predict(\"RandomForestClassifier Grided\", model, train_data_X, train_data_Y)\n",
    "predict_results(model, result)"
   ]
  },
  {
   "cell_type": "code",
   "execution_count": 36,
   "metadata": {},
   "outputs": [
    {
     "name": "stdout",
     "output_type": "stream",
     "text": [
      "Hit Rate from RandomForestClassifier Grided and class_weight count: 0.7921428571428571\n",
      "Oscar 2019: [0. 0. 0. 0. 0.]\n",
      "\n"
     ]
    }
   ],
   "source": [
    "#Predict Random Forest Grided and class_weight count\n",
    "model = RandomForestClassifier(n_estimators= 10000, criterion= 'gini', max_depth= 3, class_weight= class_weight_dict)\n",
    "result = fit_and_predict(\"RandomForestClassifier Grided and class_weight count\", model, train_data_X, train_data_Y)\n",
    "predict_results(model, result)"
   ]
  },
  {
   "cell_type": "code",
   "execution_count": 37,
   "metadata": {},
   "outputs": [
    {
     "name": "stdout",
     "output_type": "stream",
     "text": [
      "Hit Rate from RandomForestClassifier Grided and class_weight balanced: 0.8126190476190477\n",
      "Oscar 2019: [0. 0. 1. 0. 0.]\n",
      "\n"
     ]
    }
   ],
   "source": [
    "#Predict Random Forest Grided and class_weight balanced\n",
    "model = RandomForestClassifier(n_estimators= 10000, criterion= 'gini', max_depth= 3, class_weight= 'balanced')\n",
    "result = fit_and_predict(\"RandomForestClassifier Grided and class_weight balanced\", model, train_data_X, train_data_Y)\n",
    "predict_results(model, result)"
   ]
  },
  {
   "cell_type": "code",
   "execution_count": 38,
   "metadata": {},
   "outputs": [
    {
     "name": "stdout",
     "output_type": "stream",
     "text": [
      "Hit Rate from RandomForestClassifier: 0.8335714285714285\n",
      "Oscar 2019: [0. 0. 0. 0. 0.]\n",
      "\n"
     ]
    }
   ],
   "source": [
    "#Predict Random Forest Grided\n",
    "model = RandomForestClassifier(n_estimators=100)\n",
    "result = fit_and_predict(\"RandomForestClassifier\", model, train_data_X, train_data_Y)\n",
    "predict_results(model, result)"
   ]
  },
  {
   "cell_type": "code",
   "execution_count": 39,
   "metadata": {},
   "outputs": [
    {
     "name": "stdout",
     "output_type": "stream",
     "text": [
      "Hit Rate from ExtraTreesClassifier Grided: 0.8202380952380952\n",
      "Oscar 2019: [0. 0. 0. 0. 0.]\n",
      "\n"
     ]
    }
   ],
   "source": [
    "#Predict Extra Tress Grided\n",
    "model = ExtraTreesClassifier(criterion = 'gini', max_depth = 3, n_estimators = 150)\n",
    "result = fit_and_predict(\"ExtraTreesClassifier Grided\", model, train_data_X, train_data_Y)\n",
    "predict_results(model, result)"
   ]
  },
  {
   "cell_type": "code",
   "execution_count": 40,
   "metadata": {},
   "outputs": [
    {
     "name": "stdout",
     "output_type": "stream",
     "text": [
      "Hit Rate from ExtraTreesClassifier Grided and class_weight balanced: 0.8392857142857142\n",
      "Oscar 2019: [0. 1. 1. 0. 0.]\n",
      "\n"
     ]
    }
   ],
   "source": [
    "#Predict Extra Tress Grided and class_weight balanced\n",
    "model = ExtraTreesClassifier(criterion = 'gini', max_depth = 3, n_estimators = 150, class_weight= 'balanced')\n",
    "result = fit_and_predict(\"ExtraTreesClassifier Grided and class_weight balanced\", model, train_data_X, train_data_Y)\n",
    "predict_results(model, result)"
   ]
  },
  {
   "cell_type": "code",
   "execution_count": 41,
   "metadata": {},
   "outputs": [
    {
     "name": "stdout",
     "output_type": "stream",
     "text": [
      "Hit Rate from ExtraTreesClassifier: 0.8464285714285713\n",
      "Oscar 2019: [0. 1. 1. 0. 0.]\n",
      "\n"
     ]
    }
   ],
   "source": [
    "#Predict Extra Tress\n",
    "model = ExtraTreesClassifier(n_estimators = 100)\n",
    "result = fit_and_predict(\"ExtraTreesClassifier\", model, train_data_X, train_data_Y)\n",
    "predict_results(model, result)"
   ]
  },
  {
   "cell_type": "code",
   "execution_count": 42,
   "metadata": {},
   "outputs": [
    {
     "name": "stdout",
     "output_type": "stream",
     "text": [
      "Hit Rate from DecisionTree Grided: 0.79125\n",
      "Oscar 2019: [0. 0. 0. 0. 0.]\n",
      "\n"
     ]
    }
   ],
   "source": [
    "#Predict DecisionTree Grided\n",
    "model = tree.DecisionTreeClassifier(criterion = 'entropy', max_depth = 3)\n",
    "result = fit_and_predict(\"DecisionTree Grided\", model, train_data_X, train_data_Y)\n",
    "predict_results(model, result)"
   ]
  },
  {
   "cell_type": "code",
   "execution_count": 43,
   "metadata": {},
   "outputs": [
    {
     "name": "stdout",
     "output_type": "stream",
     "text": [
      "Hit Rate from DecisionTree Grided and class_weight count: 0.7516666666666667\n",
      "Oscar 2019: [0. 0. 0. 0. 0.]\n",
      "\n"
     ]
    }
   ],
   "source": [
    "#Predict DecisionTree Grided and class_weight count\n",
    "model = tree.DecisionTreeClassifier(criterion = 'entropy', max_depth = 3, class_weight= class_weight_dict)\n",
    "result = fit_and_predict(\"DecisionTree Grided and class_weight count\", model, train_data_X, train_data_Y)\n",
    "predict_results(model, result)"
   ]
  },
  {
   "cell_type": "code",
   "execution_count": 44,
   "metadata": {},
   "outputs": [
    {
     "name": "stdout",
     "output_type": "stream",
     "text": [
      "Hit Rate from DecisionTree Grided and class_weight balanced: 0.7045833333333333\n",
      "Oscar 2019: [0. 1. 1. 0. 0.]\n",
      "\n"
     ]
    }
   ],
   "source": [
    "#Predict DecisionTree Grided and class_weight balanced\n",
    "model = tree.DecisionTreeClassifier(criterion = 'entropy', max_depth = 3, class_weight = 'balanced')\n",
    "result = fit_and_predict(\"DecisionTree Grided and class_weight balanced\", model, train_data_X, train_data_Y)\n",
    "predict_results(model, result)"
   ]
  },
  {
   "cell_type": "code",
   "execution_count": 45,
   "metadata": {},
   "outputs": [
    {
     "name": "stdout",
     "output_type": "stream",
     "text": [
      "Hit Rate from DecisionTree: 0.7382142857142858\n",
      "Oscar 2019: [0. 0. 1. 0. 0.]\n",
      "\n"
     ]
    }
   ],
   "source": [
    "#Predict DecisionTree\n",
    "model = tree.DecisionTreeClassifier()\n",
    "result = fit_and_predict(\"DecisionTree\", model, train_data_X, train_data_Y)\n",
    "predict_results(model, result)"
   ]
  },
  {
   "cell_type": "code",
   "execution_count": 46,
   "metadata": {},
   "outputs": [
    {
     "name": "stdout",
     "output_type": "stream",
     "text": [
      "Hit rate based on validation data: 81.578947\n"
     ]
    }
   ],
   "source": [
    "#The effectiveness of the algorithm that kicks everything 0 or 1 or a single value\n",
    "base_hit = max(Counter(test_data_Y).values()) #Devolve a quantidade do maior elemento\n",
    "base_one = list(Y_labels).count(1)\n",
    "base_zero = list(Y_labels).count(0)\n",
    "hit_rate_base = 100.0 * base_hit / len(test_data_Y)\n",
    "print(\"Hit rate based on validation data: %f\" %hit_rate_base)"
   ]
  },
  {
   "cell_type": "code",
   "execution_count": 47,
   "metadata": {},
   "outputs": [
    {
     "name": "stdout",
     "output_type": "stream",
     "text": [
      "\n",
      "\n",
      "\n",
      "ExtraTreesClassifier(bootstrap=False, class_weight=None, criterion='gini',\n",
      "           max_depth=None, max_features='auto', max_leaf_nodes=None,\n",
      "           min_impurity_decrease=0.0, min_impurity_split=None,\n",
      "           min_samples_leaf=1, min_samples_split=2,\n",
      "           min_weight_fraction_leaf=0.0, n_estimators=100, n_jobs=None,\n",
      "           oob_score=False, random_state=None, verbose=0, warm_start=False)\n",
      "\n",
      "\n",
      "\n",
      "Better algorithm hit rate in the real world was: 0.9473684210526315% from 149 elements\n",
      "\n",
      "\n"
     ]
    }
   ],
   "source": [
    "maximum = max(results)\n",
    "winner = results[maximum]\n",
    "print('\\n\\n')\n",
    "print(winner)\n",
    "print('\\n\\n')\n",
    "winner.fit(train_data_X, train_data_Y)\n",
    "result = winner.predict(test_data_X)\n",
    "\n",
    "len_to_predict = len(train_data_Y)\n",
    "hit_rate = metrics.accuracy_score(test_data_Y, result)\n",
    "\n",
    "print(\"Better algorithm hit rate in the real world \" + \"was: \" \n",
    "      + str(hit_rate) + \"% \" + \"from \" + str(len_to_predict) + \" elements\\n\\n\")"
   ]
  },
  {
   "cell_type": "code",
   "execution_count": 48,
   "metadata": {},
   "outputs": [
    {
     "name": "stdout",
     "output_type": "stream",
     "text": [
      "                        film              name\n",
      "0                       Roma  Yalitza Aparicio\n",
      "1                   The Wife       Glenn Close\n",
      "2              The Favourite     Olivia Colman\n",
      "3             A Star Is Born         Lady Gaga\n",
      "4  Can You Ever Forgive Me?   Melissa McCarthy\n",
      "\n",
      "\n",
      "\n",
      "Best model predict:\n",
      "[0. 1. 1. 0. 0.]\n",
      "       film         name\n",
      "1  The Wife  Glenn Close\n"
     ]
    }
   ],
   "source": [
    "name_and_films = df_to_predict[['film', 'name']]\n",
    "print(name_and_films)\n",
    "print('\\n')\n",
    "winner.fit(train_data_X, train_data_Y)\n",
    "winner_result = winner.predict(X_to_predict)\n",
    "print('\\nBest model predict:')\n",
    "print(winner_result)\n",
    "print(name_and_films.iloc[[winner_result.tolist().index(max(winner_result))]])"
   ]
  },
  {
   "cell_type": "code",
   "execution_count": 49,
   "metadata": {},
   "outputs": [
    {
     "name": "stdout",
     "output_type": "stream",
     "text": [
      "\n",
      "Without accuracy validation:\n",
      "[2, 7, 10, 2, 1]\n",
      "            film           name\n",
      "2  The Favourite  Olivia Colman\n",
      "\n",
      "\n",
      "\n",
      "Only if accuracy > 89%:\n",
      "[0, 5, 6, 0, 0]\n",
      "            film           name\n",
      "2  The Favourite  Olivia Colman\n"
     ]
    }
   ],
   "source": [
    "print('\\nWithout accuracy validation:')\n",
    "print(candidate0)\n",
    "print(name_and_films.iloc[[candidate0.index(max(candidate0))]])\n",
    "print(\"\\n\")\n",
    "print('\\nOnly if accuracy > 89%:')\n",
    "print(candidate)\n",
    "print(name_and_films.iloc[[candidate.index(max(candidate))]])"
   ]
  },
  {
   "cell_type": "code",
   "execution_count": null,
   "metadata": {},
   "outputs": [],
   "source": []
  },
  {
   "cell_type": "code",
   "execution_count": null,
   "metadata": {},
   "outputs": [],
   "source": []
  },
  {
   "cell_type": "code",
   "execution_count": null,
   "metadata": {},
   "outputs": [],
   "source": []
  }
 ],
 "metadata": {
  "kernelspec": {
   "display_name": "Python 3",
   "language": "python",
   "name": "python3"
  },
  "language_info": {
   "codemirror_mode": {
    "name": "ipython",
    "version": 3
   },
   "file_extension": ".py",
   "mimetype": "text/x-python",
   "name": "python",
   "nbconvert_exporter": "python",
   "pygments_lexer": "ipython3",
   "version": "3.6.9"
  }
 },
 "nbformat": 4,
 "nbformat_minor": 2
}
